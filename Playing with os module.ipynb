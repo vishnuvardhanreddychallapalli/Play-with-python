{
 "cells": [
  {
   "cell_type": "code",
   "execution_count": 1,
   "metadata": {},
   "outputs": [],
   "source": [
    "import os"
   ]
  },
  {
   "cell_type": "code",
   "execution_count": 5,
   "metadata": {},
   "outputs": [
    {
     "name": "stdout",
     "output_type": "stream",
     "text": [
      "hi vishnu you are a good person\n",
      "but study every day for 10 hours\n",
      "read python tensorflow numpy pandas spark hadoop opemmp mpi\n",
      "All the best....\n"
     ]
    }
   ],
   "source": [
    "f=open('abc.txt','r')\n",
    "print(f.read())"
   ]
  },
  {
   "cell_type": "code",
   "execution_count": 6,
   "metadata": {},
   "outputs": [
    {
     "name": "stdout",
     "output_type": "stream",
     "text": [
      "True\n"
     ]
    }
   ],
   "source": [
    "print(os.path.isfile('abc.txt'))"
   ]
  },
  {
   "cell_type": "code",
   "execution_count": 20,
   "metadata": {},
   "outputs": [
    {
     "name": "stdout",
     "output_type": "stream",
     "text": [
      "['hi vishnu you are a good person\\n', 'but study every day for 10 hours\\n', 'read python tensorflow numpy pandas spark hadoop opemmp mpi\\n', 'All the best....']\n",
      "The total number of lines are: 4\n",
      "the total number of words are: 26\n",
      "The total number of letters are: 116\n"
     ]
    }
   ],
   "source": [
    "no_of_lines=0\n",
    "no_of_words=0\n",
    "no_of_letters=0\n",
    "with open('abc.txt','r') as f:\n",
    "    text=f.readlines()\n",
    "    print(text)\n",
    "    for line in text:\n",
    "        no_of_lines+=1\n",
    "        small_line=line\n",
    "        for each_word in small_line.split():\n",
    "            no_of_words+=1\n",
    "            small_word=each_word\n",
    "            for char in small_word:\n",
    "                no_of_letters+=1\n",
    "print(\"The total number of lines are: \"+str(no_of_lines))\n",
    "print(\"the total number of words are: \"+str(no_of_words))\n",
    "print(\"The total number of letters are: \"+str(no_of_letters))"
   ]
  },
  {
   "cell_type": "code",
   "execution_count": 21,
   "metadata": {},
   "outputs": [
    {
     "data": {
      "text/plain": [
       "True"
      ]
     },
     "execution_count": 21,
     "metadata": {},
     "output_type": "execute_result"
    }
   ],
   "source": [
    "os.path.isfile('abc.txt')"
   ]
  },
  {
   "cell_type": "code",
   "execution_count": 24,
   "metadata": {},
   "outputs": [
    {
     "name": "stdout",
     "output_type": "stream",
     "text": [
      "Enter the number of employees2\n",
      "Enter the first employee_no1\n",
      "Enter the salary10\n",
      "Enter the cityhyd\n",
      "Enter the first employee_no2\n",
      "Enter the salary10\n",
      "Enter the cityhyd\n"
     ]
    }
   ],
   "source": [
    "import csv\n",
    "with open(\"Chillar.csv\",'w',newline='') as f:\n",
    "    write=csv.writer(f)\n",
    "    write.writerow([\"employee_no\",\"employee_sal\",\"city\"])\n",
    "    no_of_emp=int(input(\"Enter the number of employees\"))\n",
    "    for i in range(no_of_emp):\n",
    "        e_no=int(input(\"Enter the first employee_no\"))\n",
    "        e_sal=int(input(\"Enter the salary\"))\n",
    "        e_city=input(\"Enter the city\")\n",
    "        write.writerow([e_no,e_sal,e_city])"
   ]
  },
  {
   "cell_type": "code",
   "execution_count": 26,
   "metadata": {},
   "outputs": [
    {
     "name": "stdout",
     "output_type": "stream",
     "text": [
      "['employee_no', 'employee_sal', 'city']\n",
      "['1', '10', 'hyd']\n",
      "['2', '10', 'hyd']\n"
     ]
    }
   ],
   "source": [
    "with open(\"Chillar.csv\",'r') as f:\n",
    "    text=csv.reader(f)\n",
    "    for line in text:\n",
    "        print(line)"
   ]
  },
  {
   "cell_type": "code",
   "execution_count": null,
   "metadata": {},
   "outputs": [],
   "source": []
  },
  {
   "cell_type": "code",
   "execution_count": null,
   "metadata": {},
   "outputs": [],
   "source": []
  }
 ],
 "metadata": {
  "kernelspec": {
   "display_name": "Python 3",
   "language": "python",
   "name": "python3"
  },
  "language_info": {
   "codemirror_mode": {
    "name": "ipython",
    "version": 3
   },
   "file_extension": ".py",
   "mimetype": "text/x-python",
   "name": "python",
   "nbconvert_exporter": "python",
   "pygments_lexer": "ipython3",
   "version": "3.6.5"
  }
 },
 "nbformat": 4,
 "nbformat_minor": 2
}
